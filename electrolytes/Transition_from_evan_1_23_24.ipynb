{
 "cells": [
  {
   "cell_type": "code",
   "execution_count": null,
   "id": "6b8e07dc-965a-4b8f-b197-67d07d94ec17",
   "metadata": {},
   "outputs": [],
   "source": [
    "from architector import view_structures,convert_io_molecule\n",
    "import pandas as pd\n",
    "from pathlib import Path as p"
   ]
  },
  {
   "cell_type": "code",
   "execution_count": null,
   "id": "03502d48-f487-4596-836f-74b127a62ef8",
   "metadata": {},
   "outputs": [],
   "source": [
    "d = p('.')\n",
    "xyzs = [str(x) for x in d.glob('mg_path_mols/*xyz')] # XYZs evan shared with me."
   ]
  },
  {
   "cell_type": "code",
   "execution_count": null,
   "id": "8b6abf9f-b846-4763-acba-6b608ff30daa",
   "metadata": {
    "scrolled": true
   },
   "outputs": [],
   "source": [
    "view_structures(xyzs) # We can view all of these in the notebook"
   ]
  },
  {
   "cell_type": "code",
   "execution_count": null,
   "id": "cecd48ac-684c-48c0-bf48-52b8e667aeec",
   "metadata": {},
   "outputs": [],
   "source": [
    "# Some example reactions:\n",
    "\n",
    "#     Reactants: M2; products: M3 + M4\n",
    "#     Reactants: M3 + M1; products: M11 + M12\n",
    "#     Reactants: M3 + M1; products: M11 + M13\n",
    "#     Reactants: M1 + M16; products: M13 + M17\n",
    "#     Reactants: M18 + M19; products: M20 + M21\n",
    "#     Reactants: M1 + M18; products: M25 + M29"
   ]
  },
  {
   "cell_type": "code",
   "execution_count": null,
   "id": "54f42dad-1e88-4b7d-836f-52ade9182cd2",
   "metadata": {},
   "outputs": [],
   "source": [
    "!cat mg_path_mols/M1.xyz"
   ]
  },
  {
   "cell_type": "code",
   "execution_count": null,
   "id": "6ce6aa45-fd29-4cba-81d0-2b8ffe8b6c16",
   "metadata": {},
   "outputs": [],
   "source": [
    "mol1 = convert_io_molecule([x for x in xyzs if 'M1.xyz' in x][0])\n",
    "mol3 = convert_io_molecule([x for x in xyzs if 'M3' in x][0])"
   ]
  },
  {
   "cell_type": "code",
   "execution_count": null,
   "id": "516ebacd-ec21-462f-be8c-57231ca19cb1",
   "metadata": {},
   "outputs": [],
   "source": [
    "view_structures([mol1,mol3],labelinds=True)"
   ]
  },
  {
   "cell_type": "code",
   "execution_count": null,
   "id": "9516af29-3f6a-4f2a-8d89-0f19fad69d83",
   "metadata": {},
   "outputs": [],
   "source": [
    "mol11 = convert_io_molecule([x for x in xyzs if 'M11' in x][0])\n",
    "mol12 = convert_io_molecule([x for x in xyzs if 'M12' in x][0])\n",
    "mol13 = convert_io_molecule([x for x in xyzs if 'M13' in x][0])"
   ]
  },
  {
   "cell_type": "code",
   "execution_count": null,
   "id": "c1513c38-4449-4793-bf3b-3ed0dcc4a6cc",
   "metadata": {},
   "outputs": [],
   "source": [
    "view_structures([mol11,mol12,mol13])"
   ]
  },
  {
   "cell_type": "code",
   "execution_count": null,
   "id": "b7d0c30f-49db-4f83-8e15-4a7b64b3ecfd",
   "metadata": {},
   "outputs": [],
   "source": [
    "#     Reactants: M3 + M1; products: M11 + M12\n",
    "# Implies index 13 in 1 close to index 1 in 3\n",
    "\n",
    "#     Reactants: M3 + M1; products: M11 + M13\n",
    "# Implies index 15 in 1 close to index 1 in 3"
   ]
  },
  {
   "cell_type": "code",
   "execution_count": null,
   "id": "4245f722-928c-4514-ad86-5f9e5a986832",
   "metadata": {},
   "outputs": [],
   "source": [
    "mol1.detect_charge_spin()\n",
    "mol3.detect_charge_spin()\n",
    "mol1.create_mol_graph() # Graph for visualizations only, really\n",
    "mol3.create_mol_graph()"
   ]
  },
  {
   "cell_type": "code",
   "execution_count": null,
   "id": "995b45e3-ccd1-4674-be82-ada8a69d22c6",
   "metadata": {},
   "outputs": [],
   "source": [
    "print('M1 charge/unpaired electrons')\n",
    "print('charge',mol1.charge)\n",
    "print('uhf',mol1.uhf)\n",
    "print('M3 charge/unpaired electrons')\n",
    "print('charge',mol3.charge)\n",
    "print('uhf',mol3.uhf)"
   ]
  },
  {
   "cell_type": "code",
   "execution_count": null,
   "id": "dd6bd894-d680-476d-90b9-4c4231510522",
   "metadata": {},
   "outputs": [],
   "source": [
    "import architector.io_arch_dock as io_arch_dock"
   ]
  },
  {
   "cell_type": "code",
   "execution_count": null,
   "id": "5c3fe174-ba17-463f-b995-95d26fc10ac2",
   "metadata": {},
   "outputs": [],
   "source": [
    "#     Reactants: M3 + M1; products: M11 + M12\n",
    "# Implies index 13 in 1 close to index 1 in 3\n",
    "params = dict()\n",
    "params['species_list'] = [mol3]\n",
    "params['species_location_method'] = 'targeted'\n",
    "params['targeted_indices_close'] = [13,1] # Means index 13 in mol11 close to index 1 in mol3"
   ]
  },
  {
   "cell_type": "code",
   "execution_count": null,
   "id": "8e586074-6f72-4c14-8d2a-edcf60cc637e",
   "metadata": {},
   "outputs": [],
   "source": [
    "# Can't suppress GFN-FF output yet :/ - sigh\n",
    "out = io_arch_dock.add_non_covbound_species(mol1,parameters=params)"
   ]
  },
  {
   "cell_type": "code",
   "execution_count": null,
   "id": "ee22565d-cca1-4548-968b-3e3e4603238a",
   "metadata": {},
   "outputs": [],
   "source": [
    "out"
   ]
  },
  {
   "cell_type": "code",
   "execution_count": null,
   "id": "c5d02623-4b47-4f6d-96b5-35f161d701ba",
   "metadata": {},
   "outputs": [],
   "source": [
    "view_structures(out[0]) # Lowest XTB-energy configuration\n",
    "view_structures(out[1]) # All possible sampled configurations"
   ]
  },
  {
   "cell_type": "code",
   "execution_count": null,
   "id": "5d78a156-dd35-4af9-9905-09089a0eefb5",
   "metadata": {},
   "outputs": [],
   "source": [
    "out[0].uhf # Note that these have the charge and spin (UHF is number of unpaired electrons) accurately tracked."
   ]
  },
  {
   "cell_type": "code",
   "execution_count": null,
   "id": "5296492d-f917-4217-b0c3-b15c728a897b",
   "metadata": {},
   "outputs": [],
   "source": [
    "out[0].charge "
   ]
  },
  {
   "cell_type": "code",
   "execution_count": null,
   "id": "a7f6bca3-f2df-4ae6-8213-31197c5c77b6",
   "metadata": {},
   "outputs": [],
   "source": [
    "#     Reactants: M3 + M1; products: M11 + M12\n",
    "# Implies index 15 in 1 close to index 1 in 3\n",
    "params = dict()\n",
    "params['species_list'] = [mol3]\n",
    "params['species_location_method'] = 'targeted'\n",
    "params['targeted_indices_close'] = [15,1] # Means index 15 in mol11 close to index 1 in mol3\n",
    "# Can't suppress GFN-FF output yet :/ - sigh\n",
    "out = io_arch_dock.add_non_covbound_species(mol1,parameters=params)"
   ]
  },
  {
   "cell_type": "code",
   "execution_count": null,
   "id": "50ab7798-7de1-4f3d-b62f-1db411546589",
   "metadata": {},
   "outputs": [],
   "source": [
    "view_structures(out[0]) # Lowest_E Configuration"
   ]
  },
  {
   "cell_type": "code",
   "execution_count": null,
   "id": "282376c0-752d-43fb-9370-20ca7790414f",
   "metadata": {},
   "outputs": [],
   "source": [
    "#     Reactants: M1 + M16; products: M13 + M17\n",
    "mol16 = convert_io_molecule([x for x in xyzs if 'M16' in x][0])\n",
    "mol17 = convert_io_molecule([x for x in xyzs if 'M17' in x][0])\n",
    "mol16.detect_charge_spin()\n",
    "mol16.create_mol_graph()"
   ]
  },
  {
   "cell_type": "code",
   "execution_count": null,
   "id": "0646fcde-cf1e-4dd3-8e6e-2efdf0aa09f8",
   "metadata": {},
   "outputs": [],
   "source": [
    "view_structures([mol1,mol16],labelinds=True)"
   ]
  },
  {
   "cell_type": "code",
   "execution_count": null,
   "id": "b923fbc1-b60b-4fbd-87c5-0a9570c32b0b",
   "metadata": {},
   "outputs": [],
   "source": [
    "view_structures([mol13,mol17])"
   ]
  },
  {
   "cell_type": "code",
   "execution_count": null,
   "id": "91b56179-068a-4352-b45c-76cfc90be382",
   "metadata": {},
   "outputs": [],
   "source": [
    "# Reactants: M1 + M16; products: M13 + M17\n",
    "# Implies index 15 in 1 close to index 0 in 16\n",
    "params = dict()\n",
    "params['species_list'] = [mol16]\n",
    "params['species_location_method'] = 'targeted'\n",
    "params['targeted_indices_close'] = [15,0] # Means index 15 in mol11 close to index 1 in mol3\n",
    "# Can't suppress GFN-FF output yet :/ - sigh\n",
    "out = io_arch_dock.add_non_covbound_species(mol1,parameters=params)"
   ]
  },
  {
   "cell_type": "code",
   "execution_count": null,
   "id": "dbc5817c-256d-4847-818d-2726260221c9",
   "metadata": {},
   "outputs": [],
   "source": [
    "view_structures(out[0]) # Lowest_E Configuration"
   ]
  },
  {
   "cell_type": "code",
   "execution_count": null,
   "id": "d685225f-b924-4dc9-9b2c-0bfea6d3d16c",
   "metadata": {},
   "outputs": [],
   "source": [
    "#     Reactants: M18 + M19; products: M20 + M21\n",
    "mol18 = convert_io_molecule([x for x in xyzs if 'M18' in x][0])\n",
    "mol19 = convert_io_molecule([x for x in xyzs if 'M19' in x][0])\n",
    "mol20 = convert_io_molecule([x for x in xyzs if 'M20' in x][0])\n",
    "mol21 = convert_io_molecule([x for x in xyzs if 'M21' in x][0])\n",
    "mol18.detect_charge_spin()\n",
    "mol18.create_mol_graph()\n",
    "mol19.detect_charge_spin()\n",
    "mol19.create_mol_graph()"
   ]
  },
  {
   "cell_type": "code",
   "execution_count": null,
   "id": "84ce29e6-7af1-4868-ba26-364c4c86473c",
   "metadata": {},
   "outputs": [],
   "source": [
    "view_structures([mol18,mol19],labelinds=True)"
   ]
  },
  {
   "cell_type": "code",
   "execution_count": null,
   "id": "06775ca9-6795-4580-8790-dafc4f974593",
   "metadata": {},
   "outputs": [],
   "source": [
    "view_structures([mol20,mol21])"
   ]
  },
  {
   "cell_type": "code",
   "execution_count": null,
   "id": "71a77298-f42e-4ffd-8ebc-e18a3b521392",
   "metadata": {},
   "outputs": [],
   "source": [
    "# Implies index 13 in 19 close to index 0 in 19\n",
    "params = dict()\n",
    "params['species_list'] = [mol18]\n",
    "params['species_location_method'] = 'targeted'\n",
    "params['targeted_indices_close'] = [13,0] # Means index 15 in mol11 close to index 1 in mol3\n",
    "params['species_grid_rad_scale'] = 0.95 # Allow CH3* molecule to be slightly closer. (Default is 1.2)\n",
    "# Can't suppress GFN-FF output yet :/ - sigh\n",
    "out = io_arch_dock.add_non_covbound_species(mol19,parameters=params)"
   ]
  },
  {
   "cell_type": "code",
   "execution_count": null,
   "id": "a252d907-132f-47c6-9bc2-00dc758be0eb",
   "metadata": {},
   "outputs": [],
   "source": [
    "view_structures(out[0]) # Lowest_E Configuration"
   ]
  },
  {
   "cell_type": "code",
   "execution_count": null,
   "id": "b097dd55-902a-473b-baf2-c2a01ee8e2b4",
   "metadata": {},
   "outputs": [],
   "source": [
    "#     Reactants: M1 + M18; products: M25 + M29\n",
    "mol25 = convert_io_molecule([x for x in xyzs if 'M25' in x][0])\n",
    "mol29 = convert_io_molecule([x for x in xyzs if 'M29' in x][0])\n",
    "view_structures([mol1,mol18],labelinds=True)"
   ]
  },
  {
   "cell_type": "code",
   "execution_count": null,
   "id": "56da69f6-9fc0-4a67-90d0-d329267b267d",
   "metadata": {},
   "outputs": [],
   "source": [
    "view_structures([mol25,mol29])"
   ]
  },
  {
   "cell_type": "code",
   "execution_count": null,
   "id": "cda8b409-7f78-4edf-8c2b-b901fccf530c",
   "metadata": {},
   "outputs": [],
   "source": [
    "# Implies index 0 in 1 close to index 0 in 18\n",
    "# This one is tricky - I don't think it's quite getting it \"right\"\n",
    "params = dict()\n",
    "params['species_list'] = [mol18]\n",
    "params['species_location_method'] = 'targeted'\n",
    "params['targeted_indices_close'] = [0,0] # Means index 0 in mol1 close to index 0 in mol18\n",
    "params['species_grid_rad_scale'] = 0.7 # Allow CH3* molecule to be slightly closer. (Default is 1.2)\n",
    "# Can't suppress GFN-FF output yet :/ - sigh\n",
    "out = io_arch_dock.add_non_covbound_species(mol1, parameters=params)"
   ]
  },
  {
   "cell_type": "code",
   "execution_count": null,
   "id": "2a3ba29f-875c-48a6-906f-3fea1014397d",
   "metadata": {},
   "outputs": [],
   "source": [
    "view_structures(out[0]) # Lowest_E Configuration"
   ]
  },
  {
   "cell_type": "code",
   "execution_count": null,
   "id": "20e3c95a-d707-4005-bc34-94b403bdc089",
   "metadata": {},
   "outputs": [],
   "source": []
  }
 ],
 "metadata": {
  "kernelspec": {
   "display_name": "Python 3 (ipykernel)",
   "language": "python",
   "name": "python3"
  },
  "language_info": {
   "codemirror_mode": {
    "name": "ipython",
    "version": 3
   },
   "file_extension": ".py",
   "mimetype": "text/x-python",
   "name": "python",
   "nbconvert_exporter": "python",
   "pygments_lexer": "ipython3",
   "version": "3.11.0"
  }
 },
 "nbformat": 4,
 "nbformat_minor": 5
}
